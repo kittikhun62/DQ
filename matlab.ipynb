{
  "nbformat": 4,
  "nbformat_minor": 0,
  "metadata": {
    "colab": {
      "private_outputs": true,
      "provenance": [],
      "authorship_tag": "ABX9TyMs3Jd+82ZXcsC+msXkIjfy",
      "include_colab_link": true
    },
    "kernelspec": {
      "name": "python3",
      "display_name": "Python 3"
    },
    "language_info": {
      "name": "python"
    }
  },
  "cells": [
    {
      "cell_type": "markdown",
      "metadata": {
        "id": "view-in-github",
        "colab_type": "text"
      },
      "source": [
        "<a href=\"https://colab.research.google.com/github/kittikhun62/DQ/blob/main/matlab.ipynb\" target=\"_parent\"><img src=\"https://colab.research.google.com/assets/colab-badge.svg\" alt=\"Open In Colab\"/></a>"
      ]
    },
    {
      "cell_type": "code",
      "source": [
        "import math"
      ],
      "metadata": {
        "id": "I0pDjKSSguvR"
      },
      "execution_count": null,
      "outputs": []
    },
    {
      "cell_type": "code",
      "execution_count": null,
      "metadata": {
        "id": "etjN5l4Eaolq"
      },
      "outputs": [],
      "source": [
        "Nt = 3"
      ]
    },
    {
      "cell_type": "code",
      "source": [
        "Nr = Nt"
      ],
      "metadata": {
        "id": "xE7BbWJPd-QI"
      },
      "execution_count": null,
      "outputs": []
    },
    {
      "cell_type": "code",
      "source": [
        "SNRdB = ['0','5','10','15','20','25']"
      ],
      "metadata": {
        "id": "-NpQm4XQempV"
      },
      "execution_count": null,
      "outputs": []
    },
    {
      "cell_type": "code",
      "source": [
        "print(type(SNRdB[0]))"
      ],
      "metadata": {
        "id": "6gEy2DlQ3Xys"
      },
      "execution_count": null,
      "outputs": []
    },
    {
      "cell_type": "code",
      "source": [
        "SNRdB = [int(x) for x in SNRdB]"
      ],
      "metadata": {
        "id": "hPwMzWT23Z-y"
      },
      "execution_count": null,
      "outputs": []
    },
    {
      "cell_type": "code",
      "source": [
        "print(type(SNRdB[0]))\n"
      ],
      "metadata": {
        "id": "DJ3-FGVi3irK"
      },
      "execution_count": null,
      "outputs": []
    },
    {
      "cell_type": "code",
      "source": [
        "SNR = 10 **(SNRdB[0] / 10) , 10 **(SNRdB[1] / 10) , 10 **(SNRdB[2] / 10), 10 **(SNRdB[3] / 10) , 10 **(SNRdB[4] / 10) , 10 **(SNRdB[5] / 10)"
      ],
      "metadata": {
        "id": "e1B3YRGg06w9"
      },
      "execution_count": null,
      "outputs": []
    },
    {
      "cell_type": "code",
      "source": [
        "print(type(SNR[0]))\n",
        "SNR"
      ],
      "metadata": {
        "id": "yufr8gPc5G8d"
      },
      "execution_count": null,
      "outputs": []
    },
    {
      "cell_type": "code",
      "source": [
        "trial = 1000;\n",
        "C_mimo = [];\n"
      ],
      "metadata": {
        "id": "6IkZdMZiFXCq"
      },
      "execution_count": null,
      "outputs": []
    },
    {
      "cell_type": "code",
      "source": [
        "for i in range(1,len(SNR),1) :    \n",
        "     print(i, end=\" \")"
      ],
      "metadata": {
        "id": "AzAJj296IJ5F"
      },
      "execution_count": null,
      "outputs": []
    },
    {
      "cell_type": "code",
      "source": [
        "totalC = 0;"
      ],
      "metadata": {
        "id": "Rpwh_NiWG-VH"
      },
      "execution_count": null,
      "outputs": []
    },
    {
      "cell_type": "code",
      "source": [
        "for i in range(1,trial,1):\n",
        "    print(i, end=\" \")"
      ],
      "metadata": {
        "id": "VPHoupoQJGMR"
      },
      "execution_count": null,
      "outputs": []
    },
    {
      "cell_type": "code",
      "source": [
        "Ha = []; "
      ],
      "metadata": {
        "id": "a0GHlt7-JRoT"
      },
      "execution_count": null,
      "outputs": []
    },
    {
      "cell_type": "code",
      "source": [
        " for i in range(1,Nt*Nr,1):\n",
        "       print(i, end=\" \")"
      ],
      "metadata": {
        "id": "hWTy5b1wJWRS"
      },
      "execution_count": null,
      "outputs": []
    },
    {
      "cell_type": "code",
      "source": [
        "C_mimo = 300"
      ],
      "metadata": {
        "id": "HBZ3Y1z2N32q"
      },
      "execution_count": null,
      "outputs": []
    },
    {
      "cell_type": "code",
      "source": [
        "#h = (1/math.sqrt(2))*\n"
      ],
      "metadata": {
        "id": "zSYastU-Jrp8"
      },
      "execution_count": null,
      "outputs": []
    },
    {
      "cell_type": "code",
      "source": [
        "from matplotlib import pyplot as plt"
      ],
      "metadata": {
        "id": "G152wTFVMhxn"
      },
      "execution_count": null,
      "outputs": []
    },
    {
      "cell_type": "code",
      "source": [
        "plt.plot([50, 100, 150, 200,250,300], [1.0, 3.1622776601683795, 10.0, 31.622776601683793, 100.0, 316.22776601683796])"
      ],
      "metadata": {
        "id": "v6vhaGUwM_Oo"
      },
      "execution_count": null,
      "outputs": []
    },
    {
      "cell_type": "code",
      "source": [],
      "metadata": {
        "id": "YHQI4E5_NB27"
      },
      "execution_count": null,
      "outputs": []
    }
  ]
}