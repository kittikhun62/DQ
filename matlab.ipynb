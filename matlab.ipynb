{
  "nbformat": 4,
  "nbformat_minor": 0,
  "metadata": {
    "colab": {
      "private_outputs": true,
      "provenance": [],
      "authorship_tag": "ABX9TyO4xqHiLtHx8bA1hsZ5PSTO",
      "include_colab_link": true
    },
    "kernelspec": {
      "name": "python3",
      "display_name": "Python 3"
    },
    "language_info": {
      "name": "python"
    }
  },
  "cells": [
    {
      "cell_type": "markdown",
      "metadata": {
        "id": "view-in-github",
        "colab_type": "text"
      },
      "source": [
        "<a href=\"https://colab.research.google.com/github/kittikhun62/DQ/blob/main/matlab.ipynb\" target=\"_parent\"><img src=\"https://colab.research.google.com/assets/colab-badge.svg\" alt=\"Open In Colab\"/></a>"
      ]
    },
    {
      "cell_type": "code",
      "source": [
        "import math"
      ],
      "metadata": {
        "id": "I0pDjKSSguvR"
      },
      "execution_count": null,
      "outputs": []
    },
    {
      "cell_type": "code",
      "execution_count": null,
      "metadata": {
        "id": "etjN5l4Eaolq"
      },
      "outputs": [],
      "source": [
        "Nt = 3"
      ]
    },
    {
      "cell_type": "code",
      "source": [
        "Nr = Nt"
      ],
      "metadata": {
        "id": "xE7BbWJPd-QI"
      },
      "execution_count": null,
      "outputs": []
    },
    {
      "cell_type": "code",
      "source": [
        "SNRdB = ['0','5','10','15','20','25']"
      ],
      "metadata": {
        "id": "-NpQm4XQempV"
      },
      "execution_count": null,
      "outputs": []
    },
    {
      "cell_type": "code",
      "source": [
        "print(type(SNRdB[0]))"
      ],
      "metadata": {
        "id": "6gEy2DlQ3Xys"
      },
      "execution_count": null,
      "outputs": []
    },
    {
      "cell_type": "code",
      "source": [
        "SNRdB = [int(x) for x in SNRdB]"
      ],
      "metadata": {
        "id": "hPwMzWT23Z-y"
      },
      "execution_count": null,
      "outputs": []
    },
    {
      "cell_type": "code",
      "source": [
        "print(type(SNRdB[0]))\n"
      ],
      "metadata": {
        "id": "DJ3-FGVi3irK"
      },
      "execution_count": null,
      "outputs": []
    },
    {
      "cell_type": "code",
      "source": [
        "SNR = 10 **(SNRdB[0] / 10) , 10 **(SNRdB[1] / 10) , 10 **(SNRdB[2] / 10), 10 **(SNRdB[3] / 10) , 10 **(SNRdB[4] / 10) , 10 **(SNRdB[5] / 10)"
      ],
      "metadata": {
        "id": "e1B3YRGg06w9"
      },
      "execution_count": null,
      "outputs": []
    },
    {
      "cell_type": "code",
      "source": [
        "print(type(SNR[0]))\n",
        "SNR"
      ],
      "metadata": {
        "id": "yufr8gPc5G8d"
      },
      "execution_count": null,
      "outputs": []
    },
    {
      "cell_type": "code",
      "source": [],
      "metadata": {
        "id": "e6UcPUA0DZiO"
      },
      "execution_count": null,
      "outputs": []
    },
    {
      "cell_type": "code",
      "source": [],
      "metadata": {
        "id": "Kad8tY2nCOZt"
      },
      "execution_count": null,
      "outputs": []
    }
  ]
}